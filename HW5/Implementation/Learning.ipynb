{
  "cells": [
    {
      "cell_type": "code",
      "source": [
        "from google.colab import drive\n",
        "drive.mount('/content/drive')"
      ],
      "metadata": {
        "colab": {
          "base_uri": "https://localhost:8080/"
        },
        "id": "5jt_u75l6nQT",
        "outputId": "8420c6bf-fd6c-470d-949e-c6d61bdd8d6a"
      },
      "execution_count": null,
      "outputs": [
        {
          "output_type": "stream",
          "name": "stdout",
          "text": [
            "Mounted at /content/drive\n"
          ]
        }
      ]
    },
    {
      "cell_type": "markdown",
      "metadata": {
        "id": "1YODLhnM6iDR"
      },
      "source": [
        "# method for printing report"
      ]
    },
    {
      "cell_type": "code",
      "execution_count": null,
      "metadata": {
        "id": "o1ZMwsGH6iDX"
      },
      "outputs": [],
      "source": [
        "from sklearn.metrics import classification_report,confusion_matrix,accuracy_score,average_precision_score\n",
        "from sklearn.metrics import precision_recall_fscore_support\n",
        "\n",
        "def print_report(y_test, y_pred):\n",
        "    print('confusion matrix:')\n",
        "    print(confusion_matrix(y_test, y_pred))\n",
        "    print('------------------------------------')\n",
        "    print('classification report:')\n",
        "    print(classification_report(y_test, y_pred))\n",
        "    print('------------------------------------')\n",
        "    print('accuracy_score:')\n",
        "    print(accuracy_score(y_test, y_pred))\n",
        "    print('------------------------------------')"
      ]
    },
    {
      "cell_type": "markdown",
      "metadata": {
        "id": "NnI_-ngZ6iDa"
      },
      "source": [
        "# parsing data and get splited train and test data"
      ]
    },
    {
      "cell_type": "code",
      "execution_count": null,
      "metadata": {
        "jupyter": {
          "outputs_hidden": false
        },
        "pycharm": {
          "name": "#%%\n"
        },
        "id": "cROsSHtp6iDb"
      },
      "outputs": [],
      "source": [
        "from sklearn.model_selection import train_test_split\n",
        "import pandas as pd\n",
        "    \n",
        "duplicated_data = pd.read_csv(\"./drive/MyDrive/duplicated_scores.csv\")\n",
        "not_duplicated_data = pd.read_csv(\"./drive/MyDrive/not_duplicated_scores.csv\")\n",
        "\n",
        "final_dataset = pd.concat([duplicated_data, not_duplicated_data])\n",
        "\n",
        "values = final_dataset.iloc[:, :-1]\n",
        "targets = final_dataset.iloc[:, -1]\n",
        "\n",
        "x_train, x_test, y_train, y_test = train_test_split(values, targets, shuffle=True, test_size=0.2, random_state=40)"
      ]
    },
    {
      "cell_type": "markdown",
      "metadata": {
        "pycharm": {
          "name": "#%% md\n"
        },
        "id": "TpQTHEu56iDb"
      },
      "source": [
        "# logistic regression"
      ]
    },
    {
      "cell_type": "code",
      "execution_count": null,
      "metadata": {
        "tags": [],
        "colab": {
          "base_uri": "https://localhost:8080/"
        },
        "id": "LAdipucc6iDc",
        "outputId": "cbb12415-7228-4bf3-c6ae-aeee3f252dc2"
      },
      "outputs": [
        {
          "output_type": "stream",
          "name": "stdout",
          "text": [
            "confusion matrix:\n",
            "[[ 442  165]\n",
            " [  80 1913]]\n",
            "------------------------------------\n",
            "classification report:\n",
            "              precision    recall  f1-score   support\n",
            "\n",
            "           0       0.85      0.73      0.78       607\n",
            "           1       0.92      0.96      0.94      1993\n",
            "\n",
            "    accuracy                           0.91      2600\n",
            "   macro avg       0.88      0.84      0.86      2600\n",
            "weighted avg       0.90      0.91      0.90      2600\n",
            "\n",
            "------------------------------------\n",
            "accuracy_score:\n",
            "0.9057692307692308\n",
            "------------------------------------\n"
          ]
        }
      ],
      "source": [
        "from sklearn.linear_model import LogisticRegression\n",
        "\n",
        "LR = LogisticRegression(random_state=0).fit(x_train, y_train)\n",
        "\n",
        "y_predict = LR.predict(x_test)\n",
        "print_report(y_test, y_predict)"
      ]
    },
    {
      "cell_type": "markdown",
      "metadata": {
        "pycharm": {
          "name": "#%% md\n"
        },
        "id": "GiqWONRx6iDj"
      },
      "source": [
        "# AdAboost"
      ]
    },
    {
      "cell_type": "code",
      "execution_count": null,
      "metadata": {
        "jupyter": {
          "outputs_hidden": false
        },
        "pycharm": {
          "name": "#%%\n"
        },
        "colab": {
          "base_uri": "https://localhost:8080/"
        },
        "id": "OhpyI-yF6iDj",
        "outputId": "983604e4-c34d-4470-b5b2-aa1fbee7d694"
      },
      "outputs": [
        {
          "output_type": "stream",
          "name": "stdout",
          "text": [
            "confusion matrix:\n",
            "[[ 453  154]\n",
            " [  85 1908]]\n",
            "------------------------------------\n",
            "classification report:\n",
            "              precision    recall  f1-score   support\n",
            "\n",
            "           0       0.84      0.75      0.79       607\n",
            "           1       0.93      0.96      0.94      1993\n",
            "\n",
            "    accuracy                           0.91      2600\n",
            "   macro avg       0.88      0.85      0.87      2600\n",
            "weighted avg       0.91      0.91      0.91      2600\n",
            "\n",
            "------------------------------------\n",
            "accuracy_score:\n",
            "0.9080769230769231\n",
            "------------------------------------\n"
          ]
        }
      ],
      "source": [
        "from sklearn.ensemble import AdaBoostClassifier\n",
        "\n",
        "Ada = AdaBoostClassifier(n_estimators=300, random_state=0).fit(x_train, y_train)\n",
        "\n",
        "y_predict = Ada.predict(x_test)\n",
        "print_report(y_test, y_predict)"
      ]
    },
    {
      "cell_type": "markdown",
      "metadata": {
        "pycharm": {
          "name": "#%% md\n"
        },
        "id": "BBoRnGgN6iDk"
      },
      "source": [
        "# Random Forest"
      ]
    },
    {
      "cell_type": "code",
      "execution_count": null,
      "metadata": {
        "jupyter": {
          "outputs_hidden": false
        },
        "pycharm": {
          "name": "#%%\n"
        },
        "colab": {
          "base_uri": "https://localhost:8080/"
        },
        "id": "mEwzuQVs6iDk",
        "outputId": "94806ed2-4ad9-4971-dff3-0911ffb489f3"
      },
      "outputs": [
        {
          "output_type": "stream",
          "name": "stdout",
          "text": [
            "confusion matrix:\n",
            "[[ 455  152]\n",
            " [  74 1919]]\n",
            "------------------------------------\n",
            "classification report:\n",
            "              precision    recall  f1-score   support\n",
            "\n",
            "           0       0.86      0.75      0.80       607\n",
            "           1       0.93      0.96      0.94      1993\n",
            "\n",
            "    accuracy                           0.91      2600\n",
            "   macro avg       0.89      0.86      0.87      2600\n",
            "weighted avg       0.91      0.91      0.91      2600\n",
            "\n",
            "------------------------------------\n",
            "accuracy_score:\n",
            "0.9130769230769231\n",
            "------------------------------------\n"
          ]
        }
      ],
      "source": [
        "from sklearn.ensemble import RandomForestClassifier\n",
        "\n",
        "RF = RandomForestClassifier(max_depth=20, random_state=0).fit(x_train, y_train)\n",
        "\n",
        "y_predict = RF.predict(x_test)\n",
        "print_report(y_test, y_predict)"
      ]
    }
  ],
  "metadata": {
    "kernelspec": {
      "display_name": "Python 3",
      "language": "python",
      "name": "python3"
    },
    "language_info": {
      "codemirror_mode": {
        "name": "ipython",
        "version": 3
      },
      "file_extension": ".py",
      "mimetype": "text/x-python",
      "name": "python",
      "nbconvert_exporter": "python",
      "pygments_lexer": "ipython3",
      "version": "3.8.8"
    },
    "pycharm": {
      "stem_cell": {
        "cell_type": "raw",
        "metadata": {
          "collapsed": false
        },
        "source": [
          "\n"
        ]
      }
    },
    "colab": {
      "name": "Models.ipynb",
      "provenance": [],
      "collapsed_sections": []
    }
  },
  "nbformat": 4,
  "nbformat_minor": 0
}