{
 "cells": [
  {
   "cell_type": "markdown",
   "id": "035374a5-249b-435c-9fe2-d1ed180aedb2",
   "metadata": {},
   "source": [
    "# پدرام شاطری - 400211398 "
   ]
  },
  {
   "cell_type": "markdown",
   "id": "306daaa7-17f8-40ff-a4f2-12e3febeb676",
   "metadata": {},
   "source": [
    "# پویا خانی - 99210283"
   ]
  },
  {
   "cell_type": "markdown",
   "id": "392c8c99-71f0-4b6d-8635-5ec7e650c6b3",
   "metadata": {},
   "source": [
    "# 1"
   ]
  },
  {
   "cell_type": "code",
   "execution_count": 27,
   "id": "dcf8d8a3-3e24-4b00-95a6-0678b2da57c6",
   "metadata": {},
   "outputs": [
    {
     "name": "stdout",
     "output_type": "stream",
     "text": [
      "---------- Version from Sys ---------- \n",
      "3.8.8 (default, Apr 13 2021, 15:08:03) [MSC v.1916 64 bit (AMD64)]\n",
      "sys.version_info(major=3, minor=8, micro=8, releaselevel='final', serial=0)\n",
      "---------- Version from Platform ---------- \n",
      "3.8.8\n"
     ]
    }
   ],
   "source": [
    "print('---------- Version from Sys ---------- ')\n",
    "import sys\n",
    "print(sys.version)\n",
    "print(sys.version_info)\n",
    "print('---------- Version from Platform ---------- ')\n",
    "import platform\n",
    "print(platform.python_version())"
   ]
  },
  {
   "cell_type": "markdown",
   "id": "d5bda7c7-4cc8-4c99-a6ba-758a6eaef58d",
   "metadata": {},
   "source": [
    "# 2"
   ]
  },
  {
   "cell_type": "code",
   "execution_count": 28,
   "id": "a26e2fb7-5a51-4f36-b704-d7f996440db3",
   "metadata": {},
   "outputs": [
    {
     "name": "stdout",
     "output_type": "stream",
     "text": [
      "2021-11-21 22:44:56\n"
     ]
    }
   ],
   "source": [
    "import datetime\n",
    "print (datetime.datetime.now().strftime(\"%Y-%m-%d %H:%M:%S\"))"
   ]
  },
  {
   "cell_type": "markdown",
   "id": "6f88e545-a0fa-495b-bc2c-ea075765ffb6",
   "metadata": {},
   "source": [
    "# 3"
   ]
  },
  {
   "cell_type": "code",
   "execution_count": 29,
   "id": "4b8c6bac-ae52-4cce-a010-8fa0682d89a8",
   "metadata": {},
   "outputs": [
    {
     "name": "stdout",
     "output_type": "stream",
     "text": [
      "9\n"
     ]
    }
   ],
   "source": [
    "def print_max_in_args(*args):\n",
    "    print(max(list(args)))\n",
    "print_max_in_args(2,6,5,1,2,8,9)"
   ]
  },
  {
   "cell_type": "markdown",
   "id": "14481651-9438-41d2-853e-3f0d8d316fd1",
   "metadata": {},
   "source": [
    "# 4"
   ]
  },
  {
   "cell_type": "code",
   "execution_count": 30,
   "id": "831fdcd3-40fe-4379-94f5-39d51c005817",
   "metadata": {},
   "outputs": [
    {
     "name": "stdout",
     "output_type": "stream",
     "text": [
      "args: 1 2 3 4 5\n",
      "kwargs:\n",
      "d : salam\n",
      "a : 3\n",
      "b : 4\n"
     ]
    }
   ],
   "source": [
    "def func(*args, **kwargs):\n",
    "    print('args:', *args)\n",
    "    print('kwargs:')\n",
    "    [print(key, ':', value) for key, value in kwargs.items()]\n",
    "\n",
    "func(1,2,3,4,5,d=\"salam\",a=3,b=4)"
   ]
  },
  {
   "cell_type": "markdown",
   "id": "8cb2a872-e0d9-45a6-a660-f3ecc3f9ddf2",
   "metadata": {},
   "source": [
    "# 5"
   ]
  },
  {
   "cell_type": "code",
   "execution_count": 31,
   "id": "6089cb1d-b4e6-4545-ba78-1f73979e1e51",
   "metadata": {},
   "outputs": [
    {
     "name": "stdout",
     "output_type": "stream",
     "text": [
      "False\n"
     ]
    }
   ],
   "source": [
    "def is_different(numbers):\n",
    "    print(len(numbers) == len(set(numbers)))\n",
    "is_different([1,2,3,3,4])"
   ]
  },
  {
   "cell_type": "markdown",
   "id": "0dacf7a9-b067-4891-b917-236ee2df3eab",
   "metadata": {},
   "source": [
    "# 6"
   ]
  },
  {
   "cell_type": "code",
   "execution_count": 46,
   "id": "16cb779d-7a6b-4a56-9d79-ff338b7951bd",
   "metadata": {},
   "outputs": [
    {
     "name": "stdout",
     "output_type": "stream",
     "text": [
      "['Hi, ', 'How ', 'Are ', 'You?']\n"
     ]
    }
   ],
   "source": [
    "import regex\n",
    "print(regex.findall(r'.[^A-Z]*', \"Hi, How Are You?\"))"
   ]
  },
  {
   "cell_type": "markdown",
   "id": "adc95eb4-5545-4a90-8042-444efe009b16",
   "metadata": {},
   "source": [
    "# 7"
   ]
  },
  {
   "cell_type": "code",
   "execution_count": 47,
   "id": "8607cf68-16fc-4e76-8f9d-2b175c1bb438",
   "metadata": {},
   "outputs": [
    {
     "name": "stdout",
     "output_type": "stream",
     "text": [
      "['pedram', 'chetori']\n",
      "['khobam', 'pouya']\n"
     ]
    }
   ],
   "source": [
    "def diff_two_lists(list1, list2):\n",
    "    print(list((set(list1) - set(list2))))\n",
    "    print(list((set(list2) - set(list1))))\n",
    "diff_two_lists([\"salam\", \"chetori\", \"pedram\"],\n",
    "               [\"salam\", \"khobam\", \"pouya\"])"
   ]
  },
  {
   "cell_type": "markdown",
   "id": "1a25c722-ddd9-4356-9c38-9c5f01283b33",
   "metadata": {},
   "source": [
    "# 8.a"
   ]
  },
  {
   "cell_type": "code",
   "execution_count": 48,
   "id": "d410ae7a-88e3-4463-8f02-e6dab287da9a",
   "metadata": {},
   "outputs": [
    {
     "name": "stdout",
     "output_type": "stream",
     "text": [
      "arr1 [3 6 8 6 4 9 1 4 3 5]\n",
      "arr2 [8 2 9 6 9 2 2 6 6 1]\n",
      "indices of same values [3]\n"
     ]
    }
   ],
   "source": [
    "import numpy as np\n",
    "\n",
    "arr1 = np.random.randint(1,10,10)\n",
    "arr2 = np.random.randint(1,10,10)\n",
    "print('arr1', arr1)\n",
    "print('arr2', arr2)\n",
    "print('indices of same values', np.where(arr1 == arr2)[0])"
   ]
  },
  {
   "cell_type": "markdown",
   "id": "cd008c4c-fc3e-4ff2-ae10-1cf882a59891",
   "metadata": {},
   "source": [
    "# 8.b"
   ]
  },
  {
   "cell_type": "code",
   "execution_count": 49,
   "id": "ab9a5251-22b2-400c-85ac-a29c261de096",
   "metadata": {},
   "outputs": [
    {
     "name": "stdout",
     "output_type": "stream",
     "text": [
      "same value at the same index\n",
      "[6]\n",
      "intersect\n",
      "[1, 6, 8, 9]\n"
     ]
    }
   ],
   "source": [
    "print(\"same value at the same index\")\n",
    "print(list(arr1[np.where(arr1 == arr2)]))\n",
    "print(\"intersect\")\n",
    "print(list(np.intersect1d(arr1, arr2)))"
   ]
  },
  {
   "cell_type": "markdown",
   "id": "f3972321-1344-4109-aafc-f8f7670e6fe3",
   "metadata": {},
   "source": [
    "# 8.c"
   ]
  },
  {
   "cell_type": "code",
   "execution_count": 50,
   "id": "68c83303-2898-4fe5-8728-77e09c7aa5b3",
   "metadata": {},
   "outputs": [
    {
     "name": "stdout",
     "output_type": "stream",
     "text": [
      "union: [1 2 3 4 5 6 8 9]\n",
      "index of max: 7\n"
     ]
    }
   ],
   "source": [
    "print('union:', np.union1d(arr1, arr2))\n",
    "print('index of max:', np.argmax(np.union1d(arr1, arr2)))"
   ]
  },
  {
   "cell_type": "markdown",
   "id": "34cf2a61-23d2-4ef3-98c6-bec534ef6b0e",
   "metadata": {},
   "source": [
    "# 9.a"
   ]
  },
  {
   "cell_type": "code",
   "execution_count": 51,
   "id": "bb4b1e58-c7eb-4145-b630-5631ba1e3054",
   "metadata": {},
   "outputs": [],
   "source": [
    "import pandas as pd\n",
    "df = pd.read_csv(\"player.csv\")"
   ]
  },
  {
   "cell_type": "code",
   "execution_count": 52,
   "id": "f0c7b9c1-b687-44ab-b437-ca6a1e6fc143",
   "metadata": {},
   "outputs": [
    {
     "name": "stdout",
     "output_type": "stream",
     "text": [
      "statistical info\n"
     ]
    },
    {
     "data": {
      "text/html": [
       "<div>\n",
       "<style scoped>\n",
       "    .dataframe tbody tr th:only-of-type {\n",
       "        vertical-align: middle;\n",
       "    }\n",
       "\n",
       "    .dataframe tbody tr th {\n",
       "        vertical-align: top;\n",
       "    }\n",
       "\n",
       "    .dataframe thead th {\n",
       "        text-align: right;\n",
       "    }\n",
       "</style>\n",
       "<table border=\"1\" class=\"dataframe\">\n",
       "  <thead>\n",
       "    <tr style=\"text-align: right;\">\n",
       "      <th></th>\n",
       "      <th>height</th>\n",
       "      <th>weight</th>\n",
       "    </tr>\n",
       "  </thead>\n",
       "  <tbody>\n",
       "    <tr>\n",
       "      <th>count</th>\n",
       "      <td>11060.000000</td>\n",
       "      <td>11060.000000</td>\n",
       "    </tr>\n",
       "    <tr>\n",
       "      <th>mean</th>\n",
       "      <td>181.867445</td>\n",
       "      <td>168.380289</td>\n",
       "    </tr>\n",
       "    <tr>\n",
       "      <th>std</th>\n",
       "      <td>6.369201</td>\n",
       "      <td>14.990217</td>\n",
       "    </tr>\n",
       "    <tr>\n",
       "      <th>min</th>\n",
       "      <td>157.480000</td>\n",
       "      <td>117.000000</td>\n",
       "    </tr>\n",
       "    <tr>\n",
       "      <th>25%</th>\n",
       "      <td>177.800000</td>\n",
       "      <td>159.000000</td>\n",
       "    </tr>\n",
       "    <tr>\n",
       "      <th>50%</th>\n",
       "      <td>182.880000</td>\n",
       "      <td>168.000000</td>\n",
       "    </tr>\n",
       "    <tr>\n",
       "      <th>75%</th>\n",
       "      <td>185.420000</td>\n",
       "      <td>179.000000</td>\n",
       "    </tr>\n",
       "    <tr>\n",
       "      <th>max</th>\n",
       "      <td>208.280000</td>\n",
       "      <td>243.000000</td>\n",
       "    </tr>\n",
       "  </tbody>\n",
       "</table>\n",
       "</div>"
      ],
      "text/plain": [
       "             height        weight\n",
       "count  11060.000000  11060.000000\n",
       "mean     181.867445    168.380289\n",
       "std        6.369201     14.990217\n",
       "min      157.480000    117.000000\n",
       "25%      177.800000    159.000000\n",
       "50%      182.880000    168.000000\n",
       "75%      185.420000    179.000000\n",
       "max      208.280000    243.000000"
      ]
     },
     "execution_count": 52,
     "metadata": {},
     "output_type": "execute_result"
    }
   ],
   "source": [
    "print('statistical info')\n",
    "df[[\"height\",\"weight\"]].describe()"
   ]
  },
  {
   "cell_type": "markdown",
   "id": "c317a320-5ae0-4b27-81ba-491a2575f018",
   "metadata": {},
   "source": [
    "# 9.b"
   ]
  },
  {
   "cell_type": "code",
   "execution_count": 53,
   "id": "1dd08652-7454-434a-bd34-0894a0df81d2",
   "metadata": {},
   "outputs": [
    {
     "name": "stdout",
     "output_type": "stream",
     "text": [
      "10 max height\n"
     ]
    },
    {
     "data": {
      "text/html": [
       "<div>\n",
       "<style scoped>\n",
       "    .dataframe tbody tr th:only-of-type {\n",
       "        vertical-align: middle;\n",
       "    }\n",
       "\n",
       "    .dataframe tbody tr th {\n",
       "        vertical-align: top;\n",
       "    }\n",
       "\n",
       "    .dataframe thead th {\n",
       "        text-align: right;\n",
       "    }\n",
       "</style>\n",
       "<table border=\"1\" class=\"dataframe\">\n",
       "  <thead>\n",
       "    <tr style=\"text-align: right;\">\n",
       "      <th></th>\n",
       "      <th>index</th>\n",
       "      <th>id</th>\n",
       "      <th>player_api_id</th>\n",
       "      <th>player_name</th>\n",
       "      <th>player_fifa_api_id</th>\n",
       "      <th>birthday</th>\n",
       "      <th>height</th>\n",
       "      <th>weight</th>\n",
       "    </tr>\n",
       "  </thead>\n",
       "  <tbody>\n",
       "    <tr>\n",
       "      <th>0</th>\n",
       "      <td>5901</td>\n",
       "      <td>5908</td>\n",
       "      <td>148325</td>\n",
       "      <td>Kristof van Hout</td>\n",
       "      <td>185306</td>\n",
       "      <td>1987-02-09 00:00:00</td>\n",
       "      <td>208.28</td>\n",
       "      <td>243</td>\n",
       "    </tr>\n",
       "    <tr>\n",
       "      <th>1</th>\n",
       "      <td>8004</td>\n",
       "      <td>8016</td>\n",
       "      <td>38567</td>\n",
       "      <td>Nikola Zigic</td>\n",
       "      <td>167515</td>\n",
       "      <td>1980-09-25 00:00:00</td>\n",
       "      <td>203.20</td>\n",
       "      <td>212</td>\n",
       "    </tr>\n",
       "    <tr>\n",
       "      <th>2</th>\n",
       "      <td>5950</td>\n",
       "      <td>5957</td>\n",
       "      <td>150297</td>\n",
       "      <td>Lacina Traore</td>\n",
       "      <td>199074</td>\n",
       "      <td>1990-05-20 00:00:00</td>\n",
       "      <td>203.20</td>\n",
       "      <td>192</td>\n",
       "    </tr>\n",
       "    <tr>\n",
       "      <th>3</th>\n",
       "      <td>10558</td>\n",
       "      <td>10574</td>\n",
       "      <td>543021</td>\n",
       "      <td>Vanja Milinkovic-Savic</td>\n",
       "      <td>224836</td>\n",
       "      <td>1997-02-20 00:00:00</td>\n",
       "      <td>203.20</td>\n",
       "      <td>203</td>\n",
       "    </tr>\n",
       "    <tr>\n",
       "      <th>4</th>\n",
       "      <td>1298</td>\n",
       "      <td>1301</td>\n",
       "      <td>150209</td>\n",
       "      <td>Bogdan Milic</td>\n",
       "      <td>189967</td>\n",
       "      <td>1987-11-24 00:00:00</td>\n",
       "      <td>203.20</td>\n",
       "      <td>216</td>\n",
       "    </tr>\n",
       "    <tr>\n",
       "      <th>5</th>\n",
       "      <td>3270</td>\n",
       "      <td>3274</td>\n",
       "      <td>601304</td>\n",
       "      <td>Fejsal Mulic</td>\n",
       "      <td>226114</td>\n",
       "      <td>1994-10-03 00:00:00</td>\n",
       "      <td>203.20</td>\n",
       "      <td>185</td>\n",
       "    </tr>\n",
       "    <tr>\n",
       "      <th>6</th>\n",
       "      <td>5797</td>\n",
       "      <td>5804</td>\n",
       "      <td>96465</td>\n",
       "      <td>Kevin Vink</td>\n",
       "      <td>193674</td>\n",
       "      <td>1984-07-30 00:00:00</td>\n",
       "      <td>203.20</td>\n",
       "      <td>194</td>\n",
       "    </tr>\n",
       "    <tr>\n",
       "      <th>7</th>\n",
       "      <td>8273</td>\n",
       "      <td>8285</td>\n",
       "      <td>41129</td>\n",
       "      <td>Paolo Acerbis</td>\n",
       "      <td>137130</td>\n",
       "      <td>1981-05-05 00:00:00</td>\n",
       "      <td>203.20</td>\n",
       "      <td>190</td>\n",
       "    </tr>\n",
       "    <tr>\n",
       "      <th>8</th>\n",
       "      <td>11027</td>\n",
       "      <td>11043</td>\n",
       "      <td>30850</td>\n",
       "      <td>Zeljko Kalac</td>\n",
       "      <td>51883</td>\n",
       "      <td>1972-12-16 00:00:00</td>\n",
       "      <td>203.20</td>\n",
       "      <td>209</td>\n",
       "    </tr>\n",
       "    <tr>\n",
       "      <th>9</th>\n",
       "      <td>1923</td>\n",
       "      <td>1926</td>\n",
       "      <td>103428</td>\n",
       "      <td>Costel Pantilimon</td>\n",
       "      <td>192613</td>\n",
       "      <td>1987-02-01 00:00:00</td>\n",
       "      <td>203.20</td>\n",
       "      <td>212</td>\n",
       "    </tr>\n",
       "  </tbody>\n",
       "</table>\n",
       "</div>"
      ],
      "text/plain": [
       "   index     id  player_api_id             player_name  player_fifa_api_id  \\\n",
       "0   5901   5908         148325        Kristof van Hout              185306   \n",
       "1   8004   8016          38567            Nikola Zigic              167515   \n",
       "2   5950   5957         150297           Lacina Traore              199074   \n",
       "3  10558  10574         543021  Vanja Milinkovic-Savic              224836   \n",
       "4   1298   1301         150209            Bogdan Milic              189967   \n",
       "5   3270   3274         601304            Fejsal Mulic              226114   \n",
       "6   5797   5804          96465              Kevin Vink              193674   \n",
       "7   8273   8285          41129           Paolo Acerbis              137130   \n",
       "8  11027  11043          30850            Zeljko Kalac               51883   \n",
       "9   1923   1926         103428       Costel Pantilimon              192613   \n",
       "\n",
       "              birthday  height  weight  \n",
       "0  1987-02-09 00:00:00  208.28     243  \n",
       "1  1980-09-25 00:00:00  203.20     212  \n",
       "2  1990-05-20 00:00:00  203.20     192  \n",
       "3  1997-02-20 00:00:00  203.20     203  \n",
       "4  1987-11-24 00:00:00  203.20     216  \n",
       "5  1994-10-03 00:00:00  203.20     185  \n",
       "6  1984-07-30 00:00:00  203.20     194  \n",
       "7  1981-05-05 00:00:00  203.20     190  \n",
       "8  1972-12-16 00:00:00  203.20     209  \n",
       "9  1987-02-01 00:00:00  203.20     212  "
      ]
     },
     "execution_count": 53,
     "metadata": {},
     "output_type": "execute_result"
    }
   ],
   "source": [
    "df.sort_values(\"height\", inplace=True, ascending=False)\n",
    "print('10 max height')\n",
    "df.reset_index().head(10)"
   ]
  },
  {
   "cell_type": "code",
   "execution_count": 54,
   "id": "5654b4ba-a818-4469-906e-6af2ea477863",
   "metadata": {},
   "outputs": [
    {
     "name": "stdout",
     "output_type": "stream",
     "text": [
      "10 min height\n"
     ]
    },
    {
     "data": {
      "text/html": [
       "<div>\n",
       "<style scoped>\n",
       "    .dataframe tbody tr th:only-of-type {\n",
       "        vertical-align: middle;\n",
       "    }\n",
       "\n",
       "    .dataframe tbody tr th {\n",
       "        vertical-align: top;\n",
       "    }\n",
       "\n",
       "    .dataframe thead th {\n",
       "        text-align: right;\n",
       "    }\n",
       "</style>\n",
       "<table border=\"1\" class=\"dataframe\">\n",
       "  <thead>\n",
       "    <tr style=\"text-align: right;\">\n",
       "      <th></th>\n",
       "      <th>index</th>\n",
       "      <th>id</th>\n",
       "      <th>player_api_id</th>\n",
       "      <th>player_name</th>\n",
       "      <th>player_fifa_api_id</th>\n",
       "      <th>birthday</th>\n",
       "      <th>height</th>\n",
       "      <th>weight</th>\n",
       "    </tr>\n",
       "  </thead>\n",
       "  <tbody>\n",
       "    <tr>\n",
       "      <th>11050</th>\n",
       "      <td>3442</td>\n",
       "      <td>3446</td>\n",
       "      <td>215412</td>\n",
       "      <td>Fouad Rachid</td>\n",
       "      <td>201504</td>\n",
       "      <td>1991-11-15 00:00:00</td>\n",
       "      <td>162.56</td>\n",
       "      <td>126</td>\n",
       "    </tr>\n",
       "    <tr>\n",
       "      <th>11051</th>\n",
       "      <td>829</td>\n",
       "      <td>832</td>\n",
       "      <td>11327</td>\n",
       "      <td>Anthony Deroin</td>\n",
       "      <td>51121</td>\n",
       "      <td>1979-03-15 00:00:00</td>\n",
       "      <td>162.56</td>\n",
       "      <td>146</td>\n",
       "    </tr>\n",
       "    <tr>\n",
       "      <th>11052</th>\n",
       "      <td>1081</td>\n",
       "      <td>1084</td>\n",
       "      <td>30691</td>\n",
       "      <td>Bakari Kone</td>\n",
       "      <td>137113</td>\n",
       "      <td>1981-09-17 00:00:00</td>\n",
       "      <td>162.56</td>\n",
       "      <td>134</td>\n",
       "    </tr>\n",
       "    <tr>\n",
       "      <th>11053</th>\n",
       "      <td>3580</td>\n",
       "      <td>3584</td>\n",
       "      <td>143752</td>\n",
       "      <td>Frederic Sammaritano</td>\n",
       "      <td>187988</td>\n",
       "      <td>1986-03-23 00:00:00</td>\n",
       "      <td>162.56</td>\n",
       "      <td>146</td>\n",
       "    </tr>\n",
       "    <tr>\n",
       "      <th>11054</th>\n",
       "      <td>8672</td>\n",
       "      <td>8686</td>\n",
       "      <td>46891</td>\n",
       "      <td>Quentin Othon</td>\n",
       "      <td>179794</td>\n",
       "      <td>1988-03-27 00:00:00</td>\n",
       "      <td>162.56</td>\n",
       "      <td>141</td>\n",
       "    </tr>\n",
       "    <tr>\n",
       "      <th>11055</th>\n",
       "      <td>8251</td>\n",
       "      <td>8263</td>\n",
       "      <td>46384</td>\n",
       "      <td>Pablo Piatti</td>\n",
       "      <td>183899</td>\n",
       "      <td>1989-03-31 00:00:00</td>\n",
       "      <td>162.56</td>\n",
       "      <td>139</td>\n",
       "    </tr>\n",
       "    <tr>\n",
       "      <th>11056</th>\n",
       "      <td>2853</td>\n",
       "      <td>2857</td>\n",
       "      <td>278917</td>\n",
       "      <td>Edgar Salli</td>\n",
       "      <td>205753</td>\n",
       "      <td>1992-08-17 00:00:00</td>\n",
       "      <td>162.56</td>\n",
       "      <td>141</td>\n",
       "    </tr>\n",
       "    <tr>\n",
       "      <th>11057</th>\n",
       "      <td>7247</td>\n",
       "      <td>7258</td>\n",
       "      <td>29587</td>\n",
       "      <td>Maxi Moralez</td>\n",
       "      <td>183895</td>\n",
       "      <td>1987-02-27 00:00:00</td>\n",
       "      <td>160.02</td>\n",
       "      <td>126</td>\n",
       "    </tr>\n",
       "    <tr>\n",
       "      <th>11058</th>\n",
       "      <td>2609</td>\n",
       "      <td>2612</td>\n",
       "      <td>103139</td>\n",
       "      <td>Diego Buonanotte</td>\n",
       "      <td>170719</td>\n",
       "      <td>1988-04-19 00:00:00</td>\n",
       "      <td>160.02</td>\n",
       "      <td>123</td>\n",
       "    </tr>\n",
       "    <tr>\n",
       "      <th>11059</th>\n",
       "      <td>5446</td>\n",
       "      <td>5453</td>\n",
       "      <td>97226</td>\n",
       "      <td>Juan Quero</td>\n",
       "      <td>171126</td>\n",
       "      <td>1984-10-17 00:00:00</td>\n",
       "      <td>157.48</td>\n",
       "      <td>117</td>\n",
       "    </tr>\n",
       "  </tbody>\n",
       "</table>\n",
       "</div>"
      ],
      "text/plain": [
       "       index    id  player_api_id           player_name  player_fifa_api_id  \\\n",
       "11050   3442  3446         215412          Fouad Rachid              201504   \n",
       "11051    829   832          11327        Anthony Deroin               51121   \n",
       "11052   1081  1084          30691           Bakari Kone              137113   \n",
       "11053   3580  3584         143752  Frederic Sammaritano              187988   \n",
       "11054   8672  8686          46891         Quentin Othon              179794   \n",
       "11055   8251  8263          46384          Pablo Piatti              183899   \n",
       "11056   2853  2857         278917           Edgar Salli              205753   \n",
       "11057   7247  7258          29587          Maxi Moralez              183895   \n",
       "11058   2609  2612         103139      Diego Buonanotte              170719   \n",
       "11059   5446  5453          97226            Juan Quero              171126   \n",
       "\n",
       "                  birthday  height  weight  \n",
       "11050  1991-11-15 00:00:00  162.56     126  \n",
       "11051  1979-03-15 00:00:00  162.56     146  \n",
       "11052  1981-09-17 00:00:00  162.56     134  \n",
       "11053  1986-03-23 00:00:00  162.56     146  \n",
       "11054  1988-03-27 00:00:00  162.56     141  \n",
       "11055  1989-03-31 00:00:00  162.56     139  \n",
       "11056  1992-08-17 00:00:00  162.56     141  \n",
       "11057  1987-02-27 00:00:00  160.02     126  \n",
       "11058  1988-04-19 00:00:00  160.02     123  \n",
       "11059  1984-10-17 00:00:00  157.48     117  "
      ]
     },
     "execution_count": 54,
     "metadata": {},
     "output_type": "execute_result"
    }
   ],
   "source": [
    "print('10 min height')\n",
    "df.reset_index().tail(10)"
   ]
  },
  {
   "cell_type": "markdown",
   "id": "012ae3b9-0f9e-40d3-9a82-5de452aff5fa",
   "metadata": {},
   "source": [
    "# 9.c"
   ]
  },
  {
   "cell_type": "code",
   "execution_count": 55,
   "id": "ab757b2d-fa24-4c32-b821-bbf2c851adc1",
   "metadata": {},
   "outputs": [
    {
     "data": {
      "text/html": [
       "<div>\n",
       "<style scoped>\n",
       "    .dataframe tbody tr th:only-of-type {\n",
       "        vertical-align: middle;\n",
       "    }\n",
       "\n",
       "    .dataframe tbody tr th {\n",
       "        vertical-align: top;\n",
       "    }\n",
       "\n",
       "    .dataframe thead th {\n",
       "        text-align: right;\n",
       "    }\n",
       "</style>\n",
       "<table border=\"1\" class=\"dataframe\">\n",
       "  <thead>\n",
       "    <tr style=\"text-align: right;\">\n",
       "      <th></th>\n",
       "      <th>overall_rating</th>\n",
       "    </tr>\n",
       "    <tr>\n",
       "      <th>player_api_id</th>\n",
       "      <th></th>\n",
       "    </tr>\n",
       "  </thead>\n",
       "  <tbody>\n",
       "    <tr>\n",
       "      <th>30981</th>\n",
       "      <td>92.192308</td>\n",
       "    </tr>\n",
       "    <tr>\n",
       "      <th>30893</th>\n",
       "      <td>91.280000</td>\n",
       "    </tr>\n",
       "    <tr>\n",
       "      <th>30924</th>\n",
       "      <td>88.458333</td>\n",
       "    </tr>\n",
       "    <tr>\n",
       "      <th>30955</th>\n",
       "      <td>88.320000</td>\n",
       "    </tr>\n",
       "    <tr>\n",
       "      <th>35724</th>\n",
       "      <td>88.285714</td>\n",
       "    </tr>\n",
       "    <tr>\n",
       "      <th>30834</th>\n",
       "      <td>87.840000</td>\n",
       "    </tr>\n",
       "    <tr>\n",
       "      <th>39854</th>\n",
       "      <td>87.636364</td>\n",
       "    </tr>\n",
       "    <tr>\n",
       "      <th>30829</th>\n",
       "      <td>87.222222</td>\n",
       "    </tr>\n",
       "    <tr>\n",
       "      <th>30657</th>\n",
       "      <td>86.954545</td>\n",
       "    </tr>\n",
       "    <tr>\n",
       "      <th>30894</th>\n",
       "      <td>86.733333</td>\n",
       "    </tr>\n",
       "  </tbody>\n",
       "</table>\n",
       "</div>"
      ],
      "text/plain": [
       "               overall_rating\n",
       "player_api_id                \n",
       "30981               92.192308\n",
       "30893               91.280000\n",
       "30924               88.458333\n",
       "30955               88.320000\n",
       "35724               88.285714\n",
       "30834               87.840000\n",
       "39854               87.636364\n",
       "30829               87.222222\n",
       "30657               86.954545\n",
       "30894               86.733333"
      ]
     },
     "execution_count": 55,
     "metadata": {},
     "output_type": "execute_result"
    }
   ],
   "source": [
    "df2 = pd.read_csv(\"Player_Attributes.csv\")\n",
    "temp = df2.groupby(['player_api_id'])[['overall_rating']].mean().sort_values('overall_rating', ascending=False)\n",
    "temp.head(10)"
   ]
  },
  {
   "cell_type": "code",
   "execution_count": 56,
   "id": "0edbee44-b399-4578-87a0-4881022c0ee0",
   "metadata": {},
   "outputs": [
    {
     "data": {
      "text/html": [
       "<div>\n",
       "<style scoped>\n",
       "    .dataframe tbody tr th:only-of-type {\n",
       "        vertical-align: middle;\n",
       "    }\n",
       "\n",
       "    .dataframe tbody tr th {\n",
       "        vertical-align: top;\n",
       "    }\n",
       "\n",
       "    .dataframe thead th {\n",
       "        text-align: right;\n",
       "    }\n",
       "</style>\n",
       "<table border=\"1\" class=\"dataframe\">\n",
       "  <thead>\n",
       "    <tr style=\"text-align: right;\">\n",
       "      <th></th>\n",
       "      <th>overall_rating</th>\n",
       "    </tr>\n",
       "    <tr>\n",
       "      <th>player_api_id</th>\n",
       "      <th></th>\n",
       "    </tr>\n",
       "  </thead>\n",
       "  <tbody>\n",
       "    <tr>\n",
       "      <th>177472</th>\n",
       "      <td>47.333333</td>\n",
       "    </tr>\n",
       "    <tr>\n",
       "      <th>42149</th>\n",
       "      <td>47.000000</td>\n",
       "    </tr>\n",
       "    <tr>\n",
       "      <th>614951</th>\n",
       "      <td>47.000000</td>\n",
       "    </tr>\n",
       "    <tr>\n",
       "      <th>22343</th>\n",
       "      <td>46.000000</td>\n",
       "    </tr>\n",
       "    <tr>\n",
       "      <th>107283</th>\n",
       "      <td>46.000000</td>\n",
       "    </tr>\n",
       "    <tr>\n",
       "      <th>127141</th>\n",
       "      <td>45.500000</td>\n",
       "    </tr>\n",
       "    <tr>\n",
       "      <th>112561</th>\n",
       "      <td>45.200000</td>\n",
       "    </tr>\n",
       "    <tr>\n",
       "      <th>107416</th>\n",
       "      <td>45.000000</td>\n",
       "    </tr>\n",
       "    <tr>\n",
       "      <th>177471</th>\n",
       "      <td>43.750000</td>\n",
       "    </tr>\n",
       "    <tr>\n",
       "      <th>67396</th>\n",
       "      <td>43.000000</td>\n",
       "    </tr>\n",
       "  </tbody>\n",
       "</table>\n",
       "</div>"
      ],
      "text/plain": [
       "               overall_rating\n",
       "player_api_id                \n",
       "177472              47.333333\n",
       "42149               47.000000\n",
       "614951              47.000000\n",
       "22343               46.000000\n",
       "107283              46.000000\n",
       "127141              45.500000\n",
       "112561              45.200000\n",
       "107416              45.000000\n",
       "177471              43.750000\n",
       "67396               43.000000"
      ]
     },
     "execution_count": 56,
     "metadata": {},
     "output_type": "execute_result"
    }
   ],
   "source": [
    "temp.tail(10)"
   ]
  },
  {
   "cell_type": "markdown",
   "id": "a2bfe3a8-3850-444e-bc6c-95731568ae06",
   "metadata": {},
   "source": [
    "# 9.d"
   ]
  },
  {
   "cell_type": "code",
   "execution_count": 57,
   "id": "556f9c61-94f0-4901-88c7-63fbde091f83",
   "metadata": {},
   "outputs": [
    {
     "data": {
      "text/html": [
       "<div>\n",
       "<style scoped>\n",
       "    .dataframe tbody tr th:only-of-type {\n",
       "        vertical-align: middle;\n",
       "    }\n",
       "\n",
       "    .dataframe tbody tr th {\n",
       "        vertical-align: top;\n",
       "    }\n",
       "\n",
       "    .dataframe thead th {\n",
       "        text-align: right;\n",
       "    }\n",
       "</style>\n",
       "<table border=\"1\" class=\"dataframe\">\n",
       "  <thead>\n",
       "    <tr style=\"text-align: right;\">\n",
       "      <th></th>\n",
       "      <th>index</th>\n",
       "      <th>player_api_id</th>\n",
       "      <th>agility</th>\n",
       "      <th>strength</th>\n",
       "    </tr>\n",
       "  </thead>\n",
       "  <tbody>\n",
       "    <tr>\n",
       "      <th>0</th>\n",
       "      <td>0</td>\n",
       "      <td>505942</td>\n",
       "      <td>59.0</td>\n",
       "      <td>76.0</td>\n",
       "    </tr>\n",
       "    <tr>\n",
       "      <th>1</th>\n",
       "      <td>5</td>\n",
       "      <td>155782</td>\n",
       "      <td>78.0</td>\n",
       "      <td>56.0</td>\n",
       "    </tr>\n",
       "    <tr>\n",
       "      <th>2</th>\n",
       "      <td>38</td>\n",
       "      <td>162549</td>\n",
       "      <td>85.0</td>\n",
       "      <td>71.0</td>\n",
       "    </tr>\n",
       "    <tr>\n",
       "      <th>3</th>\n",
       "      <td>64</td>\n",
       "      <td>30572</td>\n",
       "      <td>62.0</td>\n",
       "      <td>90.0</td>\n",
       "    </tr>\n",
       "    <tr>\n",
       "      <th>4</th>\n",
       "      <td>87</td>\n",
       "      <td>23780</td>\n",
       "      <td>41.0</td>\n",
       "      <td>75.0</td>\n",
       "    </tr>\n",
       "    <tr>\n",
       "      <th>...</th>\n",
       "      <td>...</td>\n",
       "      <td>...</td>\n",
       "      <td>...</td>\n",
       "      <td>...</td>\n",
       "    </tr>\n",
       "    <tr>\n",
       "      <th>95</th>\n",
       "      <td>1497</td>\n",
       "      <td>310346</td>\n",
       "      <td>54.0</td>\n",
       "      <td>71.0</td>\n",
       "    </tr>\n",
       "    <tr>\n",
       "      <th>96</th>\n",
       "      <td>1502</td>\n",
       "      <td>68962</td>\n",
       "      <td>70.0</td>\n",
       "      <td>74.0</td>\n",
       "    </tr>\n",
       "    <tr>\n",
       "      <th>97</th>\n",
       "      <td>1520</td>\n",
       "      <td>429870</td>\n",
       "      <td>54.0</td>\n",
       "      <td>78.0</td>\n",
       "    </tr>\n",
       "    <tr>\n",
       "      <th>98</th>\n",
       "      <td>1535</td>\n",
       "      <td>23133</td>\n",
       "      <td>61.0</td>\n",
       "      <td>67.0</td>\n",
       "    </tr>\n",
       "    <tr>\n",
       "      <th>99</th>\n",
       "      <td>1552</td>\n",
       "      <td>420209</td>\n",
       "      <td>57.0</td>\n",
       "      <td>43.0</td>\n",
       "    </tr>\n",
       "  </tbody>\n",
       "</table>\n",
       "<p>100 rows × 4 columns</p>\n",
       "</div>"
      ],
      "text/plain": [
       "    index  player_api_id  agility  strength\n",
       "0       0         505942     59.0      76.0\n",
       "1       5         155782     78.0      56.0\n",
       "2      38         162549     85.0      71.0\n",
       "3      64          30572     62.0      90.0\n",
       "4      87          23780     41.0      75.0\n",
       "..    ...            ...      ...       ...\n",
       "95   1497         310346     54.0      71.0\n",
       "96   1502          68962     70.0      74.0\n",
       "97   1520         429870     54.0      78.0\n",
       "98   1535          23133     61.0      67.0\n",
       "99   1552         420209     57.0      43.0\n",
       "\n",
       "[100 rows x 4 columns]"
      ]
     },
     "execution_count": 57,
     "metadata": {},
     "output_type": "execute_result"
    }
   ],
   "source": [
    "df2.drop_duplicates(subset={'player_api_id'}, inplace=True)\n",
    "df2.sort_values(['agility', 'strength'], ascending=(False, True))\n",
    "df2[['player_api_id', 'agility', 'strength']].reset_index().head(100)"
   ]
  },
  {
   "cell_type": "markdown",
   "id": "13bc9e5f-c818-49f7-a876-5f277f82a2de",
   "metadata": {},
   "source": [
    "# 10\n",
    "generators use YIELD keyword to get one value from function at a time dynamicly, one of the advantages of generator over iterator is that the next value is only generated only after first one is consumed ( memory efficient ), another advantage is that we don't need to wait for all values to generated ( lazy load )"
   ]
  },
  {
   "cell_type": "code",
   "execution_count": 58,
   "id": "456bc58b-1ef7-45a6-b0c7-d1ec14c16a49",
   "metadata": {},
   "outputs": [
    {
     "name": "stdout",
     "output_type": "stream",
     "text": [
      "next:  0\n",
      "next:  1\n",
      "next:  2\n",
      "next:  3\n",
      "next:  4\n",
      "next:  5\n",
      "next:  6\n"
     ]
    }
   ],
   "source": [
    "def get_sequence_upto(x):\n",
    "    for i in range(x):\n",
    "        yield i\n",
    "gen = get_sequence_upto(7)\n",
    "while True:\n",
    "    try:\n",
    "        print (\"next: \", next(gen))\n",
    "    except StopIteration:\n",
    "        break"
   ]
  },
  {
   "cell_type": "markdown",
   "id": "909f94cf-2e54-41fe-a4bb-10c77c517d81",
   "metadata": {},
   "source": [
    "# 11"
   ]
  },
  {
   "cell_type": "code",
   "execution_count": 59,
   "id": "232fb680-88ca-44cf-8bf4-117e30227e79",
   "metadata": {},
   "outputs": [
    {
     "data": {
      "text/plain": [
       "[13, 19, 26, 38]"
      ]
     },
     "execution_count": 59,
     "metadata": {},
     "output_type": "execute_result"
    }
   ],
   "source": [
    "func = lambda arr : [x for x in arr if (x % 13 == 0 or x % 19 == 0)]\n",
    "func([13,14,15,16,19,22,26,38,40])"
   ]
  }
 ],
 "metadata": {
  "kernelspec": {
   "display_name": "Python 3",
   "language": "python",
   "name": "python3"
  },
  "language_info": {
   "codemirror_mode": {
    "name": "ipython",
    "version": 3
   },
   "file_extension": ".py",
   "mimetype": "text/x-python",
   "name": "python",
   "nbconvert_exporter": "python",
   "pygments_lexer": "ipython3",
   "version": "3.8.8"
  }
 },
 "nbformat": 4,
 "nbformat_minor": 5
}
